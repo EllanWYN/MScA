{
 "cells": [
  {
   "cell_type": "markdown",
   "metadata": {},
   "source": [
    "# Big Data Platforms\n",
    "\n",
    "## Movie Recommender System - Collaborative Filtering\n",
    "\n",
    "DataSet:\n",
    "\n",
    "https://www.kaggle.com/rounakbanik/the-movies-dataset\n",
    "\n",
    "Source:\n",
    "\n",
    "http://www.3leafnodes.com/apache-spark-introduction-recommender-system"
   ]
  },
  {
   "cell_type": "code",
   "execution_count": 1,
   "metadata": {},
   "outputs": [],
   "source": [
    "from pyspark.sql import SparkSession\n",
    "spark = SparkSession.builder.appName('MovieRecommender').getOrCreate()\n",
    "from pyspark.ml.recommendation import ALS\n",
    "from pyspark.ml.evaluation import RegressionEvaluator"
   ]
  },
  {
   "cell_type": "markdown",
   "metadata": {},
   "source": [
    "### Import Data"
   ]
  },
  {
   "cell_type": "code",
   "execution_count": 28,
   "metadata": {},
   "outputs": [],
   "source": [
    "ratings = spark.read.csv(\"T:\\\\courses\\\\BigData\\\\data\\\\the-movies-dataset\\\\ratings_small.csv\", inferSchema=True, header=True)\n",
    "movies = spark.read.csv(\"T:\\\\courses\\\\BigData\\\\data\\\\the-movies-dataset\\\\movies_metadata.csv\", inferSchema=True, header=True)"
   ]
  },
  {
   "cell_type": "code",
   "execution_count": 3,
   "metadata": {},
   "outputs": [
    {
     "name": "stdout",
     "output_type": "stream",
     "text": [
      "root\n",
      " |-- userId: integer (nullable = true)\n",
      " |-- movieId: integer (nullable = true)\n",
      " |-- rating: double (nullable = true)\n",
      " |-- timestamp: integer (nullable = true)\n",
      "\n"
     ]
    }
   ],
   "source": [
    "ratings.printSchema()"
   ]
  },
  {
   "cell_type": "markdown",
   "metadata": {},
   "source": [
    "### Data Exploration"
   ]
  },
  {
   "cell_type": "code",
   "execution_count": 4,
   "metadata": {},
   "outputs": [
    {
     "data": {
      "text/plain": [
       "['userId', 'movieId', 'rating', 'timestamp']"
      ]
     },
     "execution_count": 4,
     "metadata": {},
     "output_type": "execute_result"
    }
   ],
   "source": [
    "ratings.columns"
   ]
  },
  {
   "cell_type": "code",
   "execution_count": 5,
   "metadata": {},
   "outputs": [
    {
     "data": {
      "text/plain": [
       "['adult',\n",
       " 'belongs_to_collection',\n",
       " 'budget',\n",
       " 'genres',\n",
       " 'homepage',\n",
       " 'id',\n",
       " 'imdb_id',\n",
       " 'original_language',\n",
       " 'original_title',\n",
       " 'overview',\n",
       " 'popularity',\n",
       " 'poster_path',\n",
       " 'production_companies',\n",
       " 'production_countries',\n",
       " 'release_date',\n",
       " 'revenue',\n",
       " 'runtime',\n",
       " 'spoken_languages',\n",
       " 'status',\n",
       " 'tagline',\n",
       " 'title',\n",
       " 'video',\n",
       " 'vote_average',\n",
       " 'vote_count']"
      ]
     },
     "execution_count": 5,
     "metadata": {},
     "output_type": "execute_result"
    }
   ],
   "source": [
    "movies.columns"
   ]
  },
  {
   "cell_type": "code",
   "execution_count": 6,
   "metadata": {},
   "outputs": [],
   "source": [
    "ratings = ratings.select(['userId', 'movieId', 'rating'])"
   ]
  },
  {
   "cell_type": "code",
   "execution_count": 7,
   "metadata": {},
   "outputs": [
    {
     "data": {
      "text/plain": [
       "[Row(userId=1, movieId=31, rating=2.5),\n",
       " Row(userId=1, movieId=1029, rating=3.0),\n",
       " Row(userId=1, movieId=1061, rating=3.0),\n",
       " Row(userId=1, movieId=1129, rating=2.0),\n",
       " Row(userId=1, movieId=1172, rating=4.0)]"
      ]
     },
     "execution_count": 7,
     "metadata": {},
     "output_type": "execute_result"
    }
   ],
   "source": [
    "ratings.head(5)"
   ]
  },
  {
   "cell_type": "code",
   "execution_count": 8,
   "metadata": {},
   "outputs": [
    {
     "name": "stdout",
     "output_type": "stream",
     "text": [
      "+------+-------+------+\n",
      "|userId|movieId|rating|\n",
      "+------+-------+------+\n",
      "|     1|     31|   2.5|\n",
      "|     1|   1029|   3.0|\n",
      "|     1|   1061|   3.0|\n",
      "|     1|   1129|   2.0|\n",
      "|     1|   1172|   4.0|\n",
      "|     1|   1263|   2.0|\n",
      "|     1|   1287|   2.0|\n",
      "|     1|   1293|   2.0|\n",
      "|     1|   1339|   3.5|\n",
      "|     1|   1343|   2.0|\n",
      "|     1|   1371|   2.5|\n",
      "|     1|   1405|   1.0|\n",
      "|     1|   1953|   4.0|\n",
      "|     1|   2105|   4.0|\n",
      "|     1|   2150|   3.0|\n",
      "|     1|   2193|   2.0|\n",
      "|     1|   2294|   2.0|\n",
      "|     1|   2455|   2.5|\n",
      "|     1|   2968|   1.0|\n",
      "|     1|   3671|   3.0|\n",
      "+------+-------+------+\n",
      "only showing top 20 rows\n",
      "\n"
     ]
    }
   ],
   "source": [
    "ratings.show()"
   ]
  },
  {
   "cell_type": "code",
   "execution_count": 9,
   "metadata": {},
   "outputs": [
    {
     "name": "stdout",
     "output_type": "stream",
     "text": [
      "+-------+------------------+------------------+------------------+\n",
      "|summary|            userId|           movieId|            rating|\n",
      "+-------+------------------+------------------+------------------+\n",
      "|  count|            100004|            100004|            100004|\n",
      "|   mean| 347.0113095476181|12548.664363425463| 3.543608255669773|\n",
      "| stddev|195.16383797819535|26369.198968815268|1.0580641091070326|\n",
      "|    min|                 1|                 1|               0.5|\n",
      "|    max|               671|            163949|               5.0|\n",
      "+-------+------------------+------------------+------------------+\n",
      "\n"
     ]
    }
   ],
   "source": [
    "ratings.describe().show()"
   ]
  },
  {
   "cell_type": "code",
   "execution_count": 10,
   "metadata": {},
   "outputs": [],
   "source": [
    "training, test = ratings.randomSplit([0.8,0.2])"
   ]
  },
  {
   "cell_type": "markdown",
   "metadata": {},
   "source": [
    "### ALS\n",
    "\n",
    "[Alternating Least Squares(ALS)](https://spark.apache.org/docs/latest/ml-collaborative-filtering.html) is a the model we’ll use to fit our data and find similarities. ALS is an iterative optimization process where we for every iteration try to arrive closer and closer to a factorized representation of our original data.\n",
    "\n",
    "### Cold Start Predictions\n",
    "\n",
    "When there are cold start users or items to make predictions on (ones not available in the model) the predictions produce NaNs as shown in the summary below. This also causes evaluation with the mean squared error to produce a NaN.To solve this problem, the rows can be dropped with <code>predictions.na.drop()</code>. A more streamlined way is to add the <code>coldStartStrategy=\"drop\"</code> as a model parameter."
   ]
  },
  {
   "cell_type": "code",
   "execution_count": 21,
   "metadata": {},
   "outputs": [],
   "source": [
    "# Build the recommendation model using ALS on the training data\n",
    "# Note we set cold start strategy to 'drop' to ensure we don't get NaN evaluation metrics\n",
    "als = ALS(maxIter=10, regParam=0.01, userCol=\"userId\", itemCol=\"movieId\", ratingCol=\"rating\",\n",
    "          coldStartStrategy=\"drop\", nonnegative = True)"
   ]
  },
  {
   "cell_type": "code",
   "execution_count": 22,
   "metadata": {},
   "outputs": [],
   "source": [
    "#fit and predict\n",
    "model = als.fit(training)\n",
    "predictions = model.transform(test)"
   ]
  },
  {
   "cell_type": "code",
   "execution_count": 23,
   "metadata": {},
   "outputs": [
    {
     "name": "stdout",
     "output_type": "stream",
     "text": [
      "+------+-------+------+----------+\n",
      "|userId|movieId|rating|prediction|\n",
      "+------+-------+------+----------+\n",
      "|   126|    471|   5.0| 4.0813065|\n",
      "|   274|    471|   5.0| 3.4201708|\n",
      "|   292|    471|   3.5| 4.1559453|\n",
      "|    19|    471|   3.0| 3.5502396|\n",
      "|   659|    471|   4.0| 3.2783334|\n",
      "|   380|    471|   4.0|  3.194829|\n",
      "|   649|    471|   3.0| 3.2985878|\n",
      "|   585|    471|   4.0| 3.7485852|\n",
      "|   195|    471|   3.0| 3.0037432|\n",
      "|   574|    471|   3.5| 3.5628338|\n",
      "|   582|   1088|   3.5|  3.015482|\n",
      "|    57|   1088|   4.0| 4.2917175|\n",
      "|   531|   1088|   5.0| 2.2568505|\n",
      "|   264|   1088|   4.0| 4.4893107|\n",
      "|   418|   1088|   5.0| 4.7282343|\n",
      "|   160|   1088|   4.0|  4.528123|\n",
      "|   621|   1088|   3.5|  3.658979|\n",
      "|   200|   1088|   1.0| 2.7792714|\n",
      "|   303|   1088|   3.0| 3.1088583|\n",
      "|   105|   1088|   3.0| 2.7955267|\n",
      "+------+-------+------+----------+\n",
      "only showing top 20 rows\n",
      "\n"
     ]
    }
   ],
   "source": [
    "predictions.show()"
   ]
  },
  {
   "cell_type": "code",
   "execution_count": 24,
   "metadata": {},
   "outputs": [
    {
     "name": "stdout",
     "output_type": "stream",
     "text": [
      "+------+-------+------+----------+\n",
      "|userId|movieId|rating|prediction|\n",
      "+------+-------+------+----------+\n",
      "|   126|    471|   5.0| 4.0813065|\n",
      "|   274|    471|   5.0| 3.4201708|\n",
      "|   292|    471|   3.5| 4.1559453|\n",
      "|    19|    471|   3.0| 3.5502396|\n",
      "|   659|    471|   4.0| 3.2783334|\n",
      "|   380|    471|   4.0|  3.194829|\n",
      "|   649|    471|   3.0| 3.2985878|\n",
      "|   585|    471|   4.0| 3.7485852|\n",
      "|   195|    471|   3.0| 3.0037432|\n",
      "|   574|    471|   3.5| 3.5628338|\n",
      "|   582|   1088|   3.5|  3.015482|\n",
      "|    57|   1088|   4.0| 4.2917175|\n",
      "|   531|   1088|   5.0| 2.2568505|\n",
      "|   264|   1088|   4.0| 4.4893107|\n",
      "|   418|   1088|   5.0| 4.7282343|\n",
      "|   160|   1088|   4.0|  4.528123|\n",
      "|   621|   1088|   3.5|  3.658979|\n",
      "|   200|   1088|   1.0| 2.7792714|\n",
      "|   303|   1088|   3.0| 3.1088583|\n",
      "|   105|   1088|   3.0| 2.7955267|\n",
      "+------+-------+------+----------+\n",
      "only showing top 20 rows\n",
      "\n"
     ]
    }
   ],
   "source": [
    "predictions = predictions.na.drop()\n",
    "predictions.show()"
   ]
  },
  {
   "cell_type": "code",
   "execution_count": 29,
   "metadata": {},
   "outputs": [
    {
     "name": "stdout",
     "output_type": "stream",
     "text": [
      "+------+-------+------+----------+----+-----------+--------------------------------------------------------------+\n",
      "|userId|movieId|rating|prediction|id  |title      |genres                                                        |\n",
      "+------+-------+------+----------+----+-----------+--------------------------------------------------------------+\n",
      "|126   |471    |5.0   |4.0813065 |471 |Bandyta    |[{'id': 18, 'name': 'Drama'}]                                 |\n",
      "|274   |471    |5.0   |3.4201708 |471 |Bandyta    |[{'id': 18, 'name': 'Drama'}]                                 |\n",
      "|292   |471    |3.5   |4.1559453 |471 |Bandyta    |[{'id': 18, 'name': 'Drama'}]                                 |\n",
      "|19    |471    |3.0   |3.5502396 |471 |Bandyta    |[{'id': 18, 'name': 'Drama'}]                                 |\n",
      "|659   |471    |4.0   |3.2783334 |471 |Bandyta    |[{'id': 18, 'name': 'Drama'}]                                 |\n",
      "|380   |471    |4.0   |3.194829  |471 |Bandyta    |[{'id': 18, 'name': 'Drama'}]                                 |\n",
      "|649   |471    |3.0   |3.2985878 |471 |Bandyta    |[{'id': 18, 'name': 'Drama'}]                                 |\n",
      "|585   |471    |4.0   |3.7485852 |471 |Bandyta    |[{'id': 18, 'name': 'Drama'}]                                 |\n",
      "|195   |471    |3.0   |3.0037432 |471 |Bandyta    |[{'id': 18, 'name': 'Drama'}]                                 |\n",
      "|574   |471    |3.5   |3.5628338 |471 |Bandyta    |[{'id': 18, 'name': 'Drama'}]                                 |\n",
      "|582   |1088   |3.5   |3.015482  |1088|Whale Rider|[{'id': 18, 'name': 'Drama'}, {'id': 10751, 'name': 'Family'}]|\n",
      "|57    |1088   |4.0   |4.2917175 |1088|Whale Rider|[{'id': 18, 'name': 'Drama'}, {'id': 10751, 'name': 'Family'}]|\n",
      "|531   |1088   |5.0   |2.2568505 |1088|Whale Rider|[{'id': 18, 'name': 'Drama'}, {'id': 10751, 'name': 'Family'}]|\n",
      "|264   |1088   |4.0   |4.4893107 |1088|Whale Rider|[{'id': 18, 'name': 'Drama'}, {'id': 10751, 'name': 'Family'}]|\n",
      "|418   |1088   |5.0   |4.7282343 |1088|Whale Rider|[{'id': 18, 'name': 'Drama'}, {'id': 10751, 'name': 'Family'}]|\n",
      "|160   |1088   |4.0   |4.528123  |1088|Whale Rider|[{'id': 18, 'name': 'Drama'}, {'id': 10751, 'name': 'Family'}]|\n",
      "|621   |1088   |3.5   |3.658979  |1088|Whale Rider|[{'id': 18, 'name': 'Drama'}, {'id': 10751, 'name': 'Family'}]|\n",
      "|200   |1088   |1.0   |2.7792714 |1088|Whale Rider|[{'id': 18, 'name': 'Drama'}, {'id': 10751, 'name': 'Family'}]|\n",
      "|303   |1088   |3.0   |3.1088583 |1088|Whale Rider|[{'id': 18, 'name': 'Drama'}, {'id': 10751, 'name': 'Family'}]|\n",
      "|105   |1088   |3.0   |2.7955267 |1088|Whale Rider|[{'id': 18, 'name': 'Drama'}, {'id': 10751, 'name': 'Family'}]|\n",
      "+------+-------+------+----------+----+-----------+--------------------------------------------------------------+\n",
      "only showing top 20 rows\n",
      "\n"
     ]
    }
   ],
   "source": [
    "movies = movies.select('id','title','genres')\n",
    "predictions = predictions.join(movies, movies.id == predictions.movieId)\n",
    "predictions.show(truncate = False)"
   ]
  },
  {
   "cell_type": "markdown",
   "metadata": {},
   "source": [
    "### Prediction Performance \n",
    "\n",
    "The RMSE with 100,004 data points is 1.1244220. \n",
    "\n",
    "Adding additional data points (26,024,289) is expected to increase the prediction performance. Run this notebook with the full dataset to see the lift."
   ]
  },
  {
   "cell_type": "code",
   "execution_count": 30,
   "metadata": {},
   "outputs": [
    {
     "name": "stdout",
     "output_type": "stream",
     "text": [
      "Root-mean-square error = 1.0402709708916424\n"
     ]
    }
   ],
   "source": [
    "evaluator = RegressionEvaluator(metricName='rmse', labelCol='rating')\n",
    "rmse = evaluator.evaluate(predictions)\n",
    "print(\"Root-mean-square error = \" + str(rmse))"
   ]
  },
  {
   "cell_type": "markdown",
   "metadata": {},
   "source": [
    "### Predictions"
   ]
  },
  {
   "cell_type": "code",
   "execution_count": 31,
   "metadata": {},
   "outputs": [
    {
     "name": "stdout",
     "output_type": "stream",
     "text": [
      "+------+--------------------+\n",
      "|userId|     recommendations|\n",
      "+------+--------------------+\n",
      "|   471|[[4965, 5.910043]...|\n",
      "|   463|[[5792, 5.6284003...|\n",
      "|   496|[[65188, 7.088074...|\n",
      "|   148|[[1192, 6.1758485...|\n",
      "|   540|[[1162, 10.622456...|\n",
      "|   392|[[3328, 8.12228],...|\n",
      "|   243|[[3684, 5.260863]...|\n",
      "|   623|[[7063, 8.133765]...|\n",
      "|    31|[[850, 5.920644],...|\n",
      "|   516|[[4967, 6.0645213...|\n",
      "+------+--------------------+\n",
      "only showing top 10 rows\n",
      "\n"
     ]
    }
   ],
   "source": [
    "# Generate top 10 movie recommendations for each user\n",
    "userRecs = model.recommendForAllUsers(10)\n",
    "userRecs.show(10)"
   ]
  },
  {
   "cell_type": "code",
   "execution_count": 33,
   "metadata": {},
   "outputs": [
    {
     "name": "stdout",
     "output_type": "stream",
     "text": [
      "+-------+-----------------------------------------------------------------------------------------------------------------------------------------------------------------------------------+\n",
      "|movieId|recommendations                                                                                                                                                                    |\n",
      "+-------+-----------------------------------------------------------------------------------------------------------------------------------------------------------------------------------+\n",
      "|1580   |[[113, 5.152397], [543, 5.014614], [546, 4.993715], [556, 4.824686], [28, 4.806556], [482, 4.7947316], [137, 4.7783413], [656, 4.76151], [484, 4.7389026], [89, 4.7019334]]        |\n",
      "|5300   |[[337, 6.888681], [123, 6.7578964], [228, 5.8700266], [244, 5.8230276], [483, 5.5648847], [545, 5.4522266], [542, 5.448466], [155, 5.359071], [70, 5.3525], [411, 5.284403]]       |\n",
      "|6620   |[[123, 8.250882], [337, 6.9006367], [395, 6.5226035], [113, 6.48083], [70, 6.2335434], [482, 6.2001314], [593, 6.077569], [604, 5.9680185], [228, 5.84807], [244, 5.775251]]       |\n",
      "|7340   |[[375, 5.923872], [315, 5.1818047], [592, 5.1459885], [138, 4.9431777], [290, 4.9425507], [480, 4.859243], [348, 4.7562666], [374, 4.700862], [325, 4.6262093], [469, 4.554767]]   |\n",
      "|32460  |[[586, 6.6723433], [116, 6.5750184], [288, 6.440775], [144, 6.3242435], [331, 6.1799974], [46, 5.9464593], [498, 5.542835], [39, 5.496266], [207, 5.3123517], [578, 5.260387]]     |\n",
      "|54190  |[[156, 12.281525], [288, 11.691091], [144, 11.556662], [565, 10.898904], [586, 10.498401], [116, 10.373141], [331, 10.167853], [46, 10.146215], [498, 10.037125], [578, 10.020151]]|\n",
      "|471    |[[123, 9.075787], [156, 8.772326], [565, 7.243572], [604, 6.9841733], [244, 6.6557913], [301, 6.527258], [395, 6.4346266], [337, 6.3600626], [497, 6.3500957], [228, 6.3471518]]   |\n",
      "|1591   |[[156, 7.694377], [116, 7.163615], [375, 6.9542656], [288, 6.814479], [604, 6.803215], [565, 6.6868258], [207, 6.5828676], [37, 6.4718356], [301, 6.3394313], [28, 6.2073493]]     |\n",
      "|4101   |[[337, 7.421093], [464, 7.2749133], [156, 7.266532], [144, 7.094301], [517, 6.90456], [565, 6.8652015], [151, 6.790528], [395, 6.5992675], [477, 6.5803223], [145, 6.534474]]      |\n",
      "|1342   |[[288, 6.6873837], [116, 6.634568], [144, 6.216912], [356, 6.1617002], [207, 6.1363955], [451, 6.087323], [145, 5.979721], [450, 5.918998], [290, 5.81423], [172, 5.7386723]]      |\n",
      "+-------+-----------------------------------------------------------------------------------------------------------------------------------------------------------------------------------+\n",
      "only showing top 10 rows\n",
      "\n"
     ]
    }
   ],
   "source": [
    "# Generate top 10 user recommendations for each movie\n",
    "movieRecs = model.recommendForAllItems(10)\n",
    "\n",
    "movieRecs.show(10, truncate=False)"
   ]
  },
  {
   "cell_type": "code",
   "execution_count": 34,
   "metadata": {},
   "outputs": [
    {
     "name": "stdout",
     "output_type": "stream",
     "text": [
      "+------+\n",
      "|userId|\n",
      "+------+\n",
      "|   148|\n",
      "|   463|\n",
      "|   471|\n",
      "+------+\n",
      "\n"
     ]
    }
   ],
   "source": [
    "# Generate top 10 movie recommendations for a specified set of users\n",
    "users = ratings.select(als.getUserCol()).distinct().limit(3)\n",
    "userSubsetRecs = model.recommendForUserSubset(users, 10)\n",
    "\n",
    "users.show(10)"
   ]
  },
  {
   "cell_type": "code",
   "execution_count": 35,
   "metadata": {},
   "outputs": [
    {
     "name": "stdout",
     "output_type": "stream",
     "text": [
      "+-------+\n",
      "|movieId|\n",
      "+-------+\n",
      "|   1580|\n",
      "|   2659|\n",
      "|   3794|\n",
      "+-------+\n",
      "\n"
     ]
    }
   ],
   "source": [
    "# Generate top 10 user recommendations for a specified set of movies\n",
    "movies = ratings.select(als.getItemCol()).distinct().limit(3)\n",
    "movieSubSetRecs = model.recommendForItemSubset(movies, 10)\n",
    "\n",
    "movies.show(10)"
   ]
  }
 ],
 "metadata": {
  "kernelspec": {
   "display_name": "Python 3",
   "language": "python",
   "name": "python3"
  },
  "language_info": {
   "codemirror_mode": {
    "name": "ipython",
    "version": 3
   },
   "file_extension": ".py",
   "mimetype": "text/x-python",
   "name": "python",
   "nbconvert_exporter": "python",
   "pygments_lexer": "ipython3",
   "version": "3.6.8"
  }
 },
 "nbformat": 4,
 "nbformat_minor": 2
}
