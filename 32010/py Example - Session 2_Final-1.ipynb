{
 "cells": [
  {
   "cell_type": "code",
   "execution_count": 1,
   "metadata": {},
   "outputs": [
    {
     "name": "stdout",
     "output_type": "stream",
     "text": [
      "Matrix A = \n",
      " [[ 1  2  3]\n",
      " [ 2  2  4]\n",
      " [ 0 -1  0]]\n",
      "Shape of Matrix A : (3, 3)\n",
      "Size of Matrix A : 9\n",
      "\n",
      "\n",
      "Vector v =  [ 4 -2  3]\n",
      "Shape of Vector v : (3,)\n",
      "Size of Vector v : 3\n"
     ]
    }
   ],
   "source": [
    "import numpy as np\n",
    "from scipy import linalg as LA\n",
    "\n",
    "\n",
    "# Define matrices \n",
    "\n",
    "# Matrix A:\n",
    "#\n",
    "# [1 2 3\n",
    "# 2 2 4\n",
    "# 0 -1 0]\n",
    "A=np.array([    [1,2,3],[2,2,4],[0,-1,0]     ]) ## 3X3\n",
    "\n",
    "\n",
    "B=np.array([[-2.0,3,2],[0,1,5],[9,6,11]]) ## 3X3\n",
    "C=np.array([[2,-2],[4,-3]]) ## 2X2\n",
    "D=np.array([[1,-3],[1,2], [5,5]]) ## 3X2\n",
    "\n",
    "\n",
    "# Define vectors\n",
    "v=np.array([4,-2,3]) ## 3x1\n",
    "\n",
    "print('Matrix A = \\n',A)\n",
    "print('Shape of Matrix A :', A.shape)\n",
    "print('Size of Matrix A :', A.size)\n",
    "print('\\n')\n",
    "\n",
    "print('Vector v = ',v)\n",
    "print('Shape of Vector v :', v.shape)\n",
    "print('Size of Vector v :', v.size)\n",
    "\n"
   ]
  },
  {
   "cell_type": "markdown",
   "metadata": {},
   "source": [
    "# Matrix Addition/Subtraction\n"
   ]
  },
  {
   "cell_type": "code",
   "execution_count": 2,
   "metadata": {},
   "outputs": [
    {
     "name": "stdout",
     "output_type": "stream",
     "text": [
      "Matrix A:\n",
      "[[ 1  2  3]\n",
      " [ 2  2  4]\n",
      " [ 0 -1  0]] \n",
      "\n",
      "Matrix B:\n",
      "[[-2.  3.  2.]\n",
      " [ 0.  1.  5.]\n",
      " [ 9.  6. 11.]] \n",
      "\n",
      "A+B :\n",
      "[[-1.  5.  5.]\n",
      " [ 2.  3.  9.]\n",
      " [ 9.  5. 11.]] \n",
      "\n",
      "B-A :\n",
      "[[-3.  1. -1.]\n",
      " [-2. -1.  1.]\n",
      " [ 9.  7. 11.]] \n",
      "\n"
     ]
    }
   ],
   "source": [
    "print('Matrix A:')\n",
    "print(A,'\\n')\n",
    "print('Matrix B:')\n",
    "print(B,'\\n')\n",
    "\n",
    "print('A+B :')\n",
    "print(A+B,'\\n')\n",
    "\n",
    "print('B-A :')\n",
    "print(B-A,'\\n')\n"
   ]
  },
  {
   "cell_type": "code",
   "execution_count": 3,
   "metadata": {},
   "outputs": [
    {
     "name": "stdout",
     "output_type": "stream",
     "text": [
      "Matrix B:\n",
      "[[-2.  3.  2.]\n",
      " [ 0.  1.  5.]\n",
      " [ 9.  6. 11.]] \n",
      "\n",
      "Matrix C:\n",
      "[[ 2 -2]\n",
      " [ 4 -3]] \n",
      "\n"
     ]
    },
    {
     "ename": "ValueError",
     "evalue": "operands could not be broadcast together with shapes (3,3) (2,2) ",
     "output_type": "error",
     "traceback": [
      "\u001b[0;31m---------------------------------------------------------------------------\u001b[0m",
      "\u001b[0;31mValueError\u001b[0m                                Traceback (most recent call last)",
      "\u001b[0;32m<ipython-input-3-ffbf4cd0d1d4>\u001b[0m in \u001b[0;36m<module>\u001b[0;34m()\u001b[0m\n\u001b[1;32m      5\u001b[0m \u001b[0;34m\u001b[0m\u001b[0m\n\u001b[1;32m      6\u001b[0m \u001b[0;31m### What is wrong here?\u001b[0m\u001b[0;34m\u001b[0m\u001b[0;34m\u001b[0m\u001b[0m\n\u001b[0;32m----> 7\u001b[0;31m \u001b[0mB\u001b[0m\u001b[0;34m+\u001b[0m\u001b[0mC\u001b[0m\u001b[0;34m\u001b[0m\u001b[0m\n\u001b[0m",
      "\u001b[0;31mValueError\u001b[0m: operands could not be broadcast together with shapes (3,3) (2,2) "
     ]
    }
   ],
   "source": [
    "print('Matrix B:')\n",
    "print(B,'\\n')\n",
    "print('Matrix C:')\n",
    "print(C,'\\n')\n",
    "\n",
    "### What is wrong here?\n",
    "B+C"
   ]
  },
  {
   "cell_type": "markdown",
   "metadata": {},
   "source": [
    "# Matrix Multiplication"
   ]
  },
  {
   "cell_type": "code",
   "execution_count": 4,
   "metadata": {},
   "outputs": [
    {
     "name": "stdout",
     "output_type": "stream",
     "text": [
      "Matrix A:\n",
      "[[ 1  2  3]\n",
      " [ 2  2  4]\n",
      " [ 0 -1  0]] \n",
      "\n",
      "Matrix B:\n",
      "[[-2.  3.  2.]\n",
      " [ 0.  1.  5.]\n",
      " [ 9.  6. 11.]] \n",
      "\n",
      "A dot B :\n",
      "[[25. 23. 45.]\n",
      " [32. 32. 58.]\n",
      " [ 0. -1. -5.]] \n",
      "\n",
      "A * B :\n",
      "[[-2.  6.  6.]\n",
      " [ 0.  2. 20.]\n",
      " [ 0. -6.  0.]] \n",
      "\n"
     ]
    }
   ],
   "source": [
    "print('Matrix A:')\n",
    "print(A,'\\n')\n",
    "print('Matrix B:')\n",
    "print(B,'\\n')\n",
    "\n",
    "\n",
    "print('A dot B :') #matrix multiplication\n",
    "print(A.dot(B),'\\n')\n",
    "\n",
    "print('A * B :') #not matrix multiplication!\n",
    "print(A*B,'\\n')"
   ]
  },
  {
   "cell_type": "code",
   "execution_count": 5,
   "metadata": {},
   "outputs": [
    {
     "name": "stdout",
     "output_type": "stream",
     "text": [
      "Matrix A:\n",
      "[[ 1  2  3]\n",
      " [ 2  2  4]\n",
      " [ 0 -1  0]] \n",
      "\n",
      "Matrix D:\n",
      "[[ 1 -3]\n",
      " [ 1  2]\n",
      " [ 5  5]] \n",
      "\n",
      "A dot D :\n",
      "[[18 16]\n",
      " [24 18]\n",
      " [-1 -2]] \n",
      "\n"
     ]
    }
   ],
   "source": [
    "print('Matrix A:')\n",
    "print(A,'\\n')\n",
    "print('Matrix D:')\n",
    "print(D,'\\n')\n",
    "\n",
    "\n",
    "print('A dot D :') #matrix multiplication\n",
    "print(A.dot(D),'\\n')\n",
    "\n"
   ]
  },
  {
   "cell_type": "code",
   "execution_count": 6,
   "metadata": {},
   "outputs": [
    {
     "name": "stdout",
     "output_type": "stream",
     "text": [
      "Matrix A:\n",
      "[[ 1  2  3]\n",
      " [ 2  2  4]\n",
      " [ 0 -1  0]] \n",
      "\n",
      "Matrix C:\n",
      "[[ 2 -2]\n",
      " [ 4 -3]] \n",
      "\n",
      "Matrix A - Shape:\n",
      "(3, 3) \n",
      "\n",
      "Matrix C - Shape:\n",
      "(2, 2) \n",
      "\n",
      "A dot C :\n"
     ]
    },
    {
     "ename": "ValueError",
     "evalue": "shapes (3,3) and (2,2) not aligned: 3 (dim 1) != 2 (dim 0)",
     "output_type": "error",
     "traceback": [
      "\u001b[0;31m---------------------------------------------------------------------------\u001b[0m",
      "\u001b[0;31mValueError\u001b[0m                                Traceback (most recent call last)",
      "\u001b[0;32m<ipython-input-6-b4a64546848e>\u001b[0m in \u001b[0;36m<module>\u001b[0;34m()\u001b[0m\n\u001b[1;32m     11\u001b[0m \u001b[0;34m\u001b[0m\u001b[0m\n\u001b[1;32m     12\u001b[0m \u001b[0mprint\u001b[0m\u001b[0;34m(\u001b[0m\u001b[0;34m'A dot C :'\u001b[0m\u001b[0;34m)\u001b[0m \u001b[0;31m# matrix multiplication\u001b[0m\u001b[0;34m\u001b[0m\u001b[0m\n\u001b[0;32m---> 13\u001b[0;31m \u001b[0mprint\u001b[0m\u001b[0;34m(\u001b[0m\u001b[0mA\u001b[0m\u001b[0;34m.\u001b[0m\u001b[0mdot\u001b[0m\u001b[0;34m(\u001b[0m\u001b[0mC\u001b[0m\u001b[0;34m)\u001b[0m\u001b[0;34m)\u001b[0m\u001b[0;34m\u001b[0m\u001b[0m\n\u001b[0m",
      "\u001b[0;31mValueError\u001b[0m: shapes (3,3) and (2,2) not aligned: 3 (dim 1) != 2 (dim 0)"
     ]
    }
   ],
   "source": [
    "print('Matrix A:')\n",
    "print(A,'\\n')\n",
    "print('Matrix C:')\n",
    "print(C,'\\n')\n",
    "print('Matrix A - Shape:')\n",
    "print(A.shape,'\\n')\n",
    "print('Matrix C - Shape:')\n",
    "print(C.shape,'\\n')\n",
    "\n",
    "#### What is wrong here?\n",
    "\n",
    "print('A dot C :') # matrix multiplication\n",
    "print(A.dot(C))"
   ]
  },
  {
   "cell_type": "markdown",
   "metadata": {},
   "source": [
    "# Vector Multiplication"
   ]
  },
  {
   "cell_type": "code",
   "execution_count": 7,
   "metadata": {},
   "outputs": [
    {
     "name": "stdout",
     "output_type": "stream",
     "text": [
      "Matrix A:\n",
      "[[ 1  2  3]\n",
      " [ 2  2  4]\n",
      " [ 0 -1  0]] \n",
      "\n",
      "Vector v:\n",
      "[ 4 -2  3] \n",
      "\n",
      "y = A dot v :\n",
      "[ 9 16  2] \n",
      "\n",
      "Shape of y :\n",
      "(3,) \n",
      "\n",
      "A*v :\n",
      "[[ 4 -4  9]\n",
      " [ 8 -4 12]\n",
      " [ 0  2  0]]\n"
     ]
    }
   ],
   "source": [
    "print('Matrix A:')\n",
    "print(A,'\\n')\n",
    "print('Vector v:')\n",
    "print(v,'\\n')\n",
    "\n",
    "\n",
    "y=A.dot(v) #matrix - vector multiplication\n",
    "print('y = A dot v :')\n",
    "print(y,'\\n')\n",
    "\n",
    "print('Shape of y :')\n",
    "print(y.shape,'\\n')\n",
    "\n",
    "\n",
    "print('A*v :')\n",
    "print(A*v) #not matrix - vector multiplication!"
   ]
  },
  {
   "cell_type": "code",
   "execution_count": 8,
   "metadata": {},
   "outputs": [
    {
     "name": "stdout",
     "output_type": "stream",
     "text": [
      "Matrix A:\n",
      "[[ 1  2  3]\n",
      " [ 2  2  4]\n",
      " [ 0 -1  0]] \n",
      "\n",
      "Diagnonal vector of matrix A : [1 2 0]\n",
      "Shape of the diagnonal vector : (3,) \n",
      "\n",
      "Transpose of Matrix A :\n",
      "[[ 1  2  0]\n",
      " [ 2  2 -1]\n",
      " [ 3  4  0]]\n",
      "[[ 1  2  0]\n",
      " [ 2  2 -1]\n",
      " [ 3  4  0]] \n",
      "\n",
      "trace of Matrix A : 3 \n",
      "\n",
      "Identity matrix:\n",
      "[[1. 0. 0. 0.]\n",
      " [0. 1. 0. 0.]\n",
      " [0. 0. 1. 0.]\n",
      " [0. 0. 0. 1.]] \n",
      "\n"
     ]
    }
   ],
   "source": [
    "print('Matrix A:')\n",
    "print(A,'\\n')\n",
    "\n",
    "diag = A.diagonal() ## or A.diag\n",
    "print('Diagnonal vector of matrix A :', diag)\n",
    "print('Shape of the diagnonal vector :', diag.shape,'\\n')\n",
    "\n",
    "\n",
    "print('Transpose of Matrix A :')\n",
    "print(A.transpose())\n",
    "print(A.T,'\\n')\n",
    "\n",
    "\n",
    "print('trace of Matrix A :',A.trace(),'\\n')\n",
    "\n",
    "\n",
    "I = np.eye(4)\n",
    "\n",
    "print('Identity matrix:')\n",
    "print( I,'\\n')\n",
    "\n",
    "\n",
    "\n",
    "\n",
    "#print('Matrix A Type :', A.dtype)\n",
    "#print('Matrix B Type :', B.dtype,'\\n')\n",
    "#np.zeros((3,4))\n",
    "#np.zeros_like((3,4))"
   ]
  },
  {
   "cell_type": "code",
   "execution_count": 9,
   "metadata": {},
   "outputs": [],
   "source": [
    "#print('Matrix A:')\n",
    "#print(A,'\\n')\n",
    "\n",
    "\n",
    "#print('Matrix A 1-norm:')\n",
    "#print('Definition: max(sum(abs(A), axis=0))')\n",
    "#print('Max(3,5,7)')\n",
    "#print(LA.norm(A,1),'\\n')\n",
    "\n",
    "\n",
    "\n",
    "#print('Matrix A Inf norm:')\n",
    "#print('Definition: max(sum(abs(A), axis=1))')\n",
    "#print('Max(6,8,1)')\n",
    "#print(LA.norm(A,np.inf))"
   ]
  },
  {
   "cell_type": "markdown",
   "metadata": {},
   "source": [
    "# Triangular Matrices"
   ]
  },
  {
   "cell_type": "code",
   "execution_count": 11,
   "metadata": {},
   "outputs": [
    {
     "name": "stdout",
     "output_type": "stream",
     "text": [
      "Matrix A:\n",
      "[[ 1  2  3]\n",
      " [ 2  2  4]\n",
      " [ 0 -1  0]] \n",
      "\n",
      "Lower Triangular Matrix:\n",
      "[[ 1  0  0]\n",
      " [ 2  2  0]\n",
      " [ 0 -1  0]] \n",
      "\n",
      "Upper Triangular Matrix:\n",
      "[[1 2 3]\n",
      " [0 2 4]\n",
      " [0 0 0]] \n",
      "\n"
     ]
    }
   ],
   "source": [
    "print('Matrix A:')\n",
    "print(A,'\\n')\n",
    "\n",
    "L = LA.tril(A)\n",
    "U = LA.triu(A)\n",
    "\n",
    "print('Lower Triangular Matrix:')\n",
    "print(L,'\\n')\n",
    "\n",
    "print('Upper Triangular Matrix:')\n",
    "print(U,'\\n')"
   ]
  },
  {
   "cell_type": "code",
   "execution_count": null,
   "metadata": {},
   "outputs": [],
   "source": []
  }
 ],
 "metadata": {
  "kernelspec": {
   "display_name": "Python 3",
   "language": "python",
   "name": "python3"
  },
  "language_info": {
   "codemirror_mode": {
    "name": "ipython",
    "version": 3
   },
   "file_extension": ".py",
   "mimetype": "text/x-python",
   "name": "python",
   "nbconvert_exporter": "python",
   "pygments_lexer": "ipython3",
   "version": "3.6.4"
  }
 },
 "nbformat": 4,
 "nbformat_minor": 1
}
