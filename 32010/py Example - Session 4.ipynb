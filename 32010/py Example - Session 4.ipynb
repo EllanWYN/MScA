{
 "cells": [
  {
   "cell_type": "code",
   "execution_count": 1,
   "metadata": {},
   "outputs": [
    {
     "name": "stdout",
     "output_type": "stream",
     "text": [
      "Matrix A: \n",
      " [[ 1  2  3]\n",
      " [ 2  2  4]\n",
      " [ 0 -1  0]] \n",
      "\n",
      "Matrix B: \n",
      " [[1 2 3]\n",
      " [1 2 3]\n",
      " [1 2 3]] \n",
      "\n",
      "Vector b: \n",
      " [1 2 3] \n",
      "Vector c: \n",
      " [2 1 0] \n"
     ]
    }
   ],
   "source": [
    "import numpy as np\n",
    "from scipy import linalg as LA\n",
    "\n",
    "\n",
    "# Define matrices\n",
    "A=np.array([\n",
    "            [1,2,3]\n",
    "            ,[2,2,4]\n",
    "            ,[0,-1,0]\n",
    "           ]) ## 3X3\n",
    "\n",
    "B=np.array([[1,2,3],\n",
    "            [1,2,3],\n",
    "            [1,2,3]\n",
    "           ]) ## 3X3\n",
    "\n",
    "b=np.array([1,2,3])\n",
    "\n",
    "c=np.array([2,1,0])\n",
    "\n",
    "print('Matrix A: \\n {} \\n'.format(A))\n",
    "print('Matrix B: \\n {} \\n'.format(B))\n",
    "print('Vector b: \\n {} '.format(b))\n",
    "print('Vector c: \\n {} '.format(c))"
   ]
  },
  {
   "cell_type": "markdown",
   "metadata": {},
   "source": [
    "# Matrix Inverse"
   ]
  },
  {
   "cell_type": "code",
   "execution_count": 4,
   "metadata": {},
   "outputs": [
    {
     "name": "stdout",
     "output_type": "stream",
     "text": [
      "Matrix A: \n",
      " [[ 1  2  3]\n",
      " [ 2  2  4]\n",
      " [ 0 -1  0]] \n",
      "\n",
      "Inverse of Matrix A: \n",
      " [[-2.   1.5 -1. ]\n",
      " [ 0.   0.  -1. ]\n",
      " [ 1.  -0.5  1. ]] \n",
      "\n",
      "Test A dot Ainv:  \n",
      " [[1. 0. 0.]\n",
      " [0. 1. 0.]\n",
      " [0. 0. 1.]] \n",
      "\n",
      "Test Ainv dot A:  \n",
      " [[1. 0. 0.]\n",
      " [0. 1. 0.]\n",
      " [0. 0. 1.]] \n",
      "\n"
     ]
    }
   ],
   "source": [
    "Ainv = LA.inv(A)\n",
    "print('Matrix A: \\n {} \\n'.format(A))\n",
    "print('Inverse of Matrix A: \\n {} \\n'.format(Ainv))\n",
    "\n",
    "\n",
    "print('Test A dot Ainv:  \\n {} \\n'.format(A.dot(Ainv)))\n",
    "print('Test Ainv dot A:  \\n {} \\n'.format(Ainv.dot(A)))\n"
   ]
  },
  {
   "cell_type": "code",
   "execution_count": 5,
   "metadata": {},
   "outputs": [
    {
     "name": "stdout",
     "output_type": "stream",
     "text": [
      "Matrix B: \n",
      " [[1 2 3]\n",
      " [1 2 3]\n",
      " [1 2 3]] \n",
      "\n"
     ]
    },
    {
     "ename": "LinAlgError",
     "evalue": "singular matrix",
     "output_type": "error",
     "traceback": [
      "\u001b[0;31m---------------------------------------------------------------------------\u001b[0m",
      "\u001b[0;31mLinAlgError\u001b[0m                               Traceback (most recent call last)",
      "\u001b[0;32m<ipython-input-5-3d2a91a1e840>\u001b[0m in \u001b[0;36m<module>\u001b[0;34m()\u001b[0m\n\u001b[1;32m      2\u001b[0m \u001b[0;34m\u001b[0m\u001b[0m\n\u001b[1;32m      3\u001b[0m \u001b[0mprint\u001b[0m\u001b[0;34m(\u001b[0m\u001b[0;34m'Matrix B: \\n {} \\n'\u001b[0m\u001b[0;34m.\u001b[0m\u001b[0mformat\u001b[0m\u001b[0;34m(\u001b[0m\u001b[0mB\u001b[0m\u001b[0;34m)\u001b[0m\u001b[0;34m)\u001b[0m\u001b[0;34m\u001b[0m\u001b[0m\n\u001b[0;32m----> 4\u001b[0;31m \u001b[0mBinv\u001b[0m \u001b[0;34m=\u001b[0m \u001b[0mLA\u001b[0m\u001b[0;34m.\u001b[0m\u001b[0minv\u001b[0m\u001b[0;34m(\u001b[0m\u001b[0mB\u001b[0m\u001b[0;34m)\u001b[0m\u001b[0;34m\u001b[0m\u001b[0m\n\u001b[0m",
      "\u001b[0;32m~/miniconda3/envs/msca/lib/python3.6/site-packages/scipy/linalg/basic.py\u001b[0m in \u001b[0;36minv\u001b[0;34m(a, overwrite_a, check_finite)\u001b[0m\n\u001b[1;32m    974\u001b[0m         \u001b[0minv_a\u001b[0m\u001b[0;34m,\u001b[0m \u001b[0minfo\u001b[0m \u001b[0;34m=\u001b[0m \u001b[0mgetri\u001b[0m\u001b[0;34m(\u001b[0m\u001b[0mlu\u001b[0m\u001b[0;34m,\u001b[0m \u001b[0mpiv\u001b[0m\u001b[0;34m,\u001b[0m \u001b[0mlwork\u001b[0m\u001b[0;34m=\u001b[0m\u001b[0mlwork\u001b[0m\u001b[0;34m,\u001b[0m \u001b[0moverwrite_lu\u001b[0m\u001b[0;34m=\u001b[0m\u001b[0;36m1\u001b[0m\u001b[0;34m)\u001b[0m\u001b[0;34m\u001b[0m\u001b[0m\n\u001b[1;32m    975\u001b[0m     \u001b[0;32mif\u001b[0m \u001b[0minfo\u001b[0m \u001b[0;34m>\u001b[0m \u001b[0;36m0\u001b[0m\u001b[0;34m:\u001b[0m\u001b[0;34m\u001b[0m\u001b[0m\n\u001b[0;32m--> 976\u001b[0;31m         \u001b[0;32mraise\u001b[0m \u001b[0mLinAlgError\u001b[0m\u001b[0;34m(\u001b[0m\u001b[0;34m\"singular matrix\"\u001b[0m\u001b[0;34m)\u001b[0m\u001b[0;34m\u001b[0m\u001b[0m\n\u001b[0m\u001b[1;32m    977\u001b[0m     \u001b[0;32mif\u001b[0m \u001b[0minfo\u001b[0m \u001b[0;34m<\u001b[0m \u001b[0;36m0\u001b[0m\u001b[0;34m:\u001b[0m\u001b[0;34m\u001b[0m\u001b[0m\n\u001b[1;32m    978\u001b[0m         raise ValueError('illegal value in %d-th argument of internal '\n",
      "\u001b[0;31mLinAlgError\u001b[0m: singular matrix"
     ]
    }
   ],
   "source": [
    "## What is wrong?\n",
    "\n",
    "print('Matrix B: \\n {} \\n'.format(B))\n",
    "Binv = LA.inv(B)"
   ]
  },
  {
   "cell_type": "markdown",
   "metadata": {},
   "source": [
    "# Determinant"
   ]
  },
  {
   "cell_type": "code",
   "execution_count": 6,
   "metadata": {},
   "outputs": [
    {
     "name": "stdout",
     "output_type": "stream",
     "text": [
      "Matrix A: \n",
      " [[ 1  2  3]\n",
      " [ 2  2  4]\n",
      " [ 0 -1  0]] \n",
      "\n",
      "Det(A): \n",
      " -2.0 \n",
      "\n"
     ]
    }
   ],
   "source": [
    "DetA=LA.det(A)\n",
    "\n",
    "print('Matrix A: \\n {} \\n'.format(A))\n",
    "print('Det(A): \\n {} \\n'.format(DetA))"
   ]
  },
  {
   "cell_type": "code",
   "execution_count": 7,
   "metadata": {},
   "outputs": [
    {
     "name": "stdout",
     "output_type": "stream",
     "text": [
      "Matrix B: \n",
      " [[1 2 3]\n",
      " [1 2 3]\n",
      " [1 2 3]] \n",
      "\n",
      "Det(B): \n",
      " 0.0 \n",
      "\n"
     ]
    }
   ],
   "source": [
    "DetB=LA.det(B)\n",
    "print('Matrix B: \\n {} \\n'.format(B))\n",
    "print('Det(B): \\n {} \\n'.format(DetB))"
   ]
  },
  {
   "cell_type": "markdown",
   "metadata": {},
   "source": [
    "# LU Decompostion of a Matrix"
   ]
  },
  {
   "cell_type": "code",
   "execution_count": 8,
   "metadata": {},
   "outputs": [
    {
     "name": "stdout",
     "output_type": "stream",
     "text": [
      "Matrix A: \n",
      " [[ 1  2  3]\n",
      " [ 2  2  4]\n",
      " [ 0 -1  0]] \n",
      "\n",
      "This is a LU factorization routine written for Scipy \n",
      "\n",
      "Matrix P: \n",
      " [[0. 1. 0.]\n",
      " [1. 0. 0.]\n",
      " [0. 0. 1.]] \n",
      "\n",
      "Matrix L: \n",
      " [[ 1.   0.   0. ]\n",
      " [ 0.5  1.   0. ]\n",
      " [ 0.  -1.   1. ]] \n",
      "\n",
      "Matrix U: \n",
      " [[2. 2. 4.]\n",
      " [0. 1. 1.]\n",
      " [0. 0. 1.]] \n",
      "\n"
     ]
    }
   ],
   "source": [
    "print('Matrix A: \\n {} \\n'.format(A))\n",
    "\n",
    "P, L, U = LA.lu(A)\n",
    "print(\"This is a LU factorization routine written for Scipy \\n\")\n",
    "\n",
    "print('Matrix P: \\n {} \\n'.format(P))\n",
    "\n",
    "print('Matrix L: \\n {} \\n'.format(L))\n",
    "\n",
    "print('Matrix U: \\n {} \\n'.format(U))"
   ]
  },
  {
   "cell_type": "code",
   "execution_count": 9,
   "metadata": {},
   "outputs": [
    {
     "name": "stdout",
     "output_type": "stream",
     "text": [
      "Perform the multiplication P*L \n",
      "\n",
      "Matrix A: \n",
      " [[ 1  2  3]\n",
      " [ 2  2  4]\n",
      " [ 0 -1  0]] \n",
      "\n",
      "Matrix PL: \n",
      " [[ 0.5  1.   0. ]\n",
      " [ 1.   0.   0. ]\n",
      " [ 0.  -1.   1. ]] \n",
      "\n",
      "Matrix U: \n",
      " [[2. 2. 4.]\n",
      " [0. 1. 1.]\n",
      " [0. 0. 1.]] \n",
      "\n"
     ]
    }
   ],
   "source": [
    "print(\"Perform the multiplication P*L \\n\")\n",
    "\n",
    "print('Matrix A: \\n {} \\n'.format(A))\n",
    "\n",
    "PL, U = LA.lu(A,permute_l = True)\n",
    "\n",
    "print('Matrix PL: \\n {} \\n'.format(PL))\n",
    "\n",
    "print('Matrix U: \\n {} \\n'.format(U))"
   ]
  },
  {
   "cell_type": "code",
   "execution_count": 10,
   "metadata": {},
   "outputs": [
    {
     "name": "stdout",
     "output_type": "stream",
     "text": [
      "Based on LAPACK \n",
      "\n",
      "Matrix A: \n",
      " [[ 1  2  3]\n",
      " [ 2  2  4]\n",
      " [ 0 -1  0]] \n",
      "\n",
      "Matrix lu: \n",
      " [[ 2.   2.   4. ]\n",
      " [ 0.5  1.   1. ]\n",
      " [ 0.  -1.   1. ]] \n",
      "\n",
      "Pivots: \n",
      " [1 1 2] \n",
      "\n"
     ]
    }
   ],
   "source": [
    "print(\"Based on LAPACK \\n\")\n",
    "\n",
    "print('Matrix A: \\n {} \\n'.format(A))\n",
    "\n",
    "lu, piv = LA.lu_factor(A)\n",
    "\n",
    "#Matrix containing U in its upper triangle, and L in its lower triangle.\n",
    "print('Matrix lu: \\n {} \\n'.format(lu)) \n",
    "\n",
    "# Pivot indices representing the permutation matrix P: row i of matrix was interchanged with row piv[i].\n",
    "print('Pivots: \\n {} \\n'.format(piv)) "
   ]
  },
  {
   "cell_type": "markdown",
   "metadata": {},
   "source": [
    "# Solve linear system of equations , A x = b, using the LU factorization"
   ]
  },
  {
   "cell_type": "code",
   "execution_count": 11,
   "metadata": {},
   "outputs": [
    {
     "name": "stdout",
     "output_type": "stream",
     "text": [
      "Matrix A: \n",
      " [[ 1  2  3]\n",
      " [ 2  2  4]\n",
      " [ 0 -1  0]] \n",
      "\n",
      "Matrix b: \n",
      " [1 2 3] \n",
      "\n",
      "Inverse of Matrix A: \n",
      " [[-2.   1.5 -1. ]\n",
      " [ 0.   0.  -1. ]\n",
      " [ 1.  -0.5  1. ]] \n",
      "\n",
      "x=Ainv * b: (Correct)\n",
      "[-2. -3.  3.]\n",
      "Test A*x ?=b : (Correct)\n",
      "[1. 2. 3.]\n",
      "\n",
      "\n",
      "x=b*Ainv: (Incorrect)\n",
      "[1. 0. 0.]\n",
      "Test A*x ?=b : (Incorrect)\n",
      "[1. 2. 0.]\n"
     ]
    }
   ],
   "source": [
    "print('Matrix A: \\n {} \\n'.format(A))\n",
    "print('Matrix b: \\n {} \\n'.format(b))\n",
    "\n",
    "\n",
    "Ainv = LA.inv(A)\n",
    "print('Inverse of Matrix A: \\n {} \\n'.format(Ainv))\n",
    "\n",
    "print(\"x=Ainv * b: (Correct)\")\n",
    "x= Ainv.dot(b)\n",
    "print(x)\n",
    "print(\"Test A*x ?=b : (Correct)\")\n",
    "print(A.dot(x))\n",
    "print('\\n')\n",
    "\n",
    "print(\"x=b*Ainv: (Incorrect)\")\n",
    "x= b.dot(Ainv)\n",
    "print(x)\n",
    "print(\"Test A*x ?=b : (Incorrect)\")\n",
    "print(A.dot(x))"
   ]
  },
  {
   "cell_type": "code",
   "execution_count": 12,
   "metadata": {},
   "outputs": [
    {
     "name": "stdout",
     "output_type": "stream",
     "text": [
      "Matrix A: \n",
      " [[ 1  2  3]\n",
      " [ 2  2  4]\n",
      " [ 0 -1  0]] \n",
      "\n",
      "Matrix b: \n",
      " [1 2 3] \n",
      "\n",
      "Matrix c: \n",
      " [2 1 0] \n",
      "\n",
      "x for b ( Using lu_solve() ): \n",
      " [-2. -3.  3.] \n",
      "\n",
      "x for c ( Using lu_solve() ): \n",
      " [-2.5  0.   1.5] \n",
      "\n",
      "x ( Using solve() ): \n",
      " [-2. -3.  3.] \n",
      "\n"
     ]
    }
   ],
   "source": [
    "print('Matrix A: \\n {} \\n'.format(A))\n",
    "print('Matrix b: \\n {} \\n'.format(b))\n",
    "print('Matrix c: \\n {} \\n'.format(c))\n",
    "\n",
    "x_b = LA.lu_solve((lu,piv), b) # Factorization of the coefficient matrix A, as given by lu_factor\n",
    "x_c = LA.lu_solve((lu,piv), c) # Factorization of the coefficient matrix A, as given by lu_factor\n",
    "\n",
    "print(\"x for b ( Using lu_solve() ): \\n {} \\n\".format(x_b))\n",
    "print(\"x for c ( Using lu_solve() ): \\n {} \\n\".format(x_c))\n",
    "\n",
    "x = LA.solve(A,b) # Solve the equation Ax = b for x.\n",
    "\n",
    "print(\"x ( Using solve() ): \\n {} \\n\".format(x))\n"
   ]
  },
  {
   "cell_type": "code",
   "execution_count": null,
   "metadata": {},
   "outputs": [],
   "source": []
  }
 ],
 "metadata": {
  "kernelspec": {
   "display_name": "Python 3",
   "language": "python",
   "name": "python3"
  },
  "language_info": {
   "codemirror_mode": {
    "name": "ipython",
    "version": 3
   },
   "file_extension": ".py",
   "mimetype": "text/x-python",
   "name": "python",
   "nbconvert_exporter": "python",
   "pygments_lexer": "ipython3",
   "version": "3.6.4"
  }
 },
 "nbformat": 4,
 "nbformat_minor": 1
}
